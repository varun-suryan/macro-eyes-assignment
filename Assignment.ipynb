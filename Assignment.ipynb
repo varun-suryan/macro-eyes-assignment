{
 "cells": [
  {
   "cell_type": "raw",
   "id": "cd68c0dd",
   "metadata": {},
   "source": [
    "This notebook is the work of Varun Suryan in response to the application for ML Scientist role at Macro-Eyes.\n",
    "The two parts of this assignment are answered in this notebook sequentially."
   ]
  },
  {
   "cell_type": "markdown",
   "id": "a3aaa3d1",
   "metadata": {},
   "source": [
    "# Part 1"
   ]
  },
  {
   "cell_type": "code",
   "execution_count": 26,
   "id": "530a4c25",
   "metadata": {},
   "outputs": [],
   "source": [
    "import pandas as pd\n",
    "import numpy as np\n",
    "import math\n",
    "from collections import defaultdict\n",
    "\n",
    "import seaborn as sns\n",
    "import matplotlib\n",
    "import matplotlib.pyplot as plt\n",
    "\n",
    "from datetime import datetime as dt\n",
    "from sklearn.model_selection import train_test_split\n",
    "\n",
    "from sklearn.metrics import roc_auc_score, recall_score, classification_report\n",
    "from sklearn.model_selection import StratifiedKFold, cross_val_score, cross_validate\n",
    "from sklearn.metrics import accuracy_score, confusion_matrix\n",
    "from sklearn.base import RegressorMixin"
   ]
  },
  {
   "cell_type": "code",
   "execution_count": 27,
   "id": "ab580204",
   "metadata": {},
   "outputs": [],
   "source": [
    "# Read the datasets\n",
    "patients, immunizations = pd.read_csv('patients_db_v2.csv'), pd.read_csv('immunization_db_v2.csv')"
   ]
  },
  {
   "cell_type": "raw",
   "id": "f61c6603",
   "metadata": {},
   "source": [
    "First, we prepare, clean, and restructure our dataset by extracting information from two given datasets. The restructured dataset will be our dataset on which we'll apply our ML models.\n",
    "\n",
    "We restructure the dataset in the following format.\n",
    "\n",
    "Pandas dataframe: structured_data\n",
    "\n",
    "pat_id dob gender district opv1\topv2\topv3\topv4\tdtp1\tdtp2\tdtp3\tintervene(*target variable*)\n",
    "\n",
    "• pat_id: The unique ID of the child.\n",
    "• dob: The date of birth of the child.\n",
    "• gender: The gender of the child.\n",
    "• district: The district of the patient.\n",
    "• opv1: The date, the patient received the first OPV vaccine.\n",
    "• opv2: The date, the patient received the second OPV vaccine.\n",
    "• opv3: The date, the patient received the third OPV vaccine.\n",
    "• opv4: The date, the patient received the fourth OPV vaccine.\n",
    "• dtp1: The date, the patient received the first DTP vaccine.\n",
    "• dtp2: The date, the patient received the second DTP vaccine.\n",
    "• dtp3: The date, the patient received the third DTP vaccine.\n",
    "• target variable: intervene (bool): True if the patient did not get fully vaccinated by 6 months of age."
   ]
  },
  {
   "cell_type": "raw",
   "id": "d2eb008e",
   "metadata": {},
   "source": [
    "We make the following assumptions to come up with the data features described above:\n",
    "\n",
    "1. If a patient receives their vaccine at a facility located in some district, we assume that that patient lives in that district where that facility is located. For example, the patient with pat_id 2 received their vaccine doses at the facility with fac_id 89 which is located in district Chobe. Hence, we assume that the patient with pat_id 2 is a resident of the Chobe District.\n",
    "\n",
    "2. In terms of the geographical location feature, note that we only included \"district\" as the feature. Knowing the district of a patient is sufficient and we can ignore the fac_id and long/lat of the facilities as the features. This comes from the intuition that facilities located in one district will function similarly from an administration perspective. For example, the facilities in Ghanzi may function differently (government spending, administrative hurdles, local people education level) than in Chobe but the facilities in one district will somewhat function similarly.\n",
    "\n",
    "3. If a patient did not receive a particular vaccine or a vaccine attempt was not successful, we assume that the date for that vaccine is 1/1/2100 (a very large future date). Equivalent to saying that this patient never received this vaccine. For example, the patient with pat_id 2 never received any vaccine but the first dose of OPV. For this patient, we set all other vaccine dates (opv2, opv3, dtp1, etc) to 1/1/2100. Similarly, if a particular vaccine attempt was unsuccessful, we set the date for that dose also to be 1/1/2100."
   ]
  },
  {
   "cell_type": "code",
   "execution_count": 28,
   "id": "710eee6e",
   "metadata": {},
   "outputs": [],
   "source": [
    "# Extract the vaccine information for each patient from immunization_db_v2.csv.\n",
    "# If a vaccine dose is not successful, set that vaccine dose date to 1/1/2100.\n",
    "\n",
    "data_dict = defaultdict(lambda: defaultdict(list))\n",
    "\n",
    "\n",
    "for row in immunizations.itertuples(index=False):\n",
    "\n",
    "    if row.vaccine == 'OPV':\n",
    "        if row.successful:\n",
    "            data_dict[row.pat_id]['OPV'].append(row.im_date)\n",
    "        else:\n",
    "            data_dict[row.pat_id]['OPV'].append('1/1/2100')\n",
    "            \n",
    "    if row.vaccine == 'DTP':\n",
    "        if row.successful:\n",
    "            data_dict[row.pat_id]['DTP'].append(row.im_date)\n",
    "        else:\n",
    "            data_dict[row.pat_id]['DTP'].append('1/1/2100')\n"
   ]
  },
  {
   "cell_type": "code",
   "execution_count": 29,
   "id": "09c30910",
   "metadata": {},
   "outputs": [],
   "source": [
    "# Extract the gender, district, and dob of a patient from patients_db_v2.csv\n",
    "for row in patients.itertuples(index=False):    \n",
    "    data_dict[row.pat_id]['DOB'] = row.dob\n",
    "    data_dict[row.pat_id]['District'] = row.district\n",
    "    data_dict[row.pat_id]['gender'] = row.gender\n",
    "\n",
    "    \n",
    "# Assume that missing vaccine dose information means that patient never received that dose.\n",
    "# Fill in those missing vaccine dose dates with 1/1/2100.\n",
    "for value in data_dict.values():\n",
    "    while len(value['OPV']) < 4:\n",
    "        value['OPV'].append('1/1/2100')\n",
    "        \n",
    "    while len(value['DTP']) < 3:\n",
    "        value['DTP'].append('1/1/2100')"
   ]
  },
  {
   "cell_type": "code",
   "execution_count": 30,
   "id": "a82ba2f8",
   "metadata": {},
   "outputs": [],
   "source": [
    "# Create a pandas datframe with all the patient information and vaccine information\n",
    "structured_data_list = []\n",
    "for key, value in data_dict.items():\n",
    "    structured_data_list.append([key, value['DOB'], value['gender'], value['District']] + value['OPV'] + value['DTP'])\n",
    "\n",
    "structured_data = pd.DataFrame(structured_data_list, columns = ['pat_id', 'dob', 'gender', 'district', 'opv1', 'opv2', 'opv3', 'opv4', 'dtp1', 'dtp2', 'dtp3'])"
   ]
  },
  {
   "cell_type": "code",
   "execution_count": 31,
   "id": "befe807e",
   "metadata": {},
   "outputs": [],
   "source": [
    "# Create the true intervention lables based on if the patiend received all 7 vaccines by 6 months (180 days) of age.\n",
    "\n",
    "labels_list = []\n",
    "for row in structured_data.itertuples(index=False):\n",
    "    labels_list.append((dt.strptime(row.opv1, \"%m/%d/%Y\") - dt.strptime(row.dob, \"%m/%d/%Y\")).days > 180 or \\\n",
    "                       (dt.strptime(row.opv2, \"%m/%d/%Y\") - dt.strptime(row.dob, \"%m/%d/%Y\")).days > 180 or \\\n",
    "                       (dt.strptime(row.opv3, \"%m/%d/%Y\") - dt.strptime(row.dob, \"%m/%d/%Y\")).days > 180 or \\\n",
    "                       (dt.strptime(row.opv4, \"%m/%d/%Y\") - dt.strptime(row.dob, \"%m/%d/%Y\")).days > 180 or \\\n",
    "                       (dt.strptime(row.dtp1, \"%m/%d/%Y\") - dt.strptime(row.dob, \"%m/%d/%Y\")).days > 180 or \\\n",
    "                       (dt.strptime(row.dtp2, \"%m/%d/%Y\") - dt.strptime(row.dob, \"%m/%d/%Y\")).days > 180 or \\\n",
    "                       (dt.strptime(row.dtp2, \"%m/%d/%Y\") - dt.strptime(row.dob, \"%m/%d/%Y\")).days > 180)\n",
    "\n",
    "structured_data['intervene'] = labels_list"
   ]
  },
  {
   "cell_type": "code",
   "execution_count": 32,
   "id": "d43ca20b",
   "metadata": {},
   "outputs": [
    {
     "data": {
      "text/html": [
       "<div>\n",
       "<style scoped>\n",
       "    .dataframe tbody tr th:only-of-type {\n",
       "        vertical-align: middle;\n",
       "    }\n",
       "\n",
       "    .dataframe tbody tr th {\n",
       "        vertical-align: top;\n",
       "    }\n",
       "\n",
       "    .dataframe thead th {\n",
       "        text-align: right;\n",
       "    }\n",
       "</style>\n",
       "<table border=\"1\" class=\"dataframe\">\n",
       "  <thead>\n",
       "    <tr style=\"text-align: right;\">\n",
       "      <th></th>\n",
       "      <th>pat_id</th>\n",
       "      <th>dob</th>\n",
       "      <th>gender</th>\n",
       "      <th>district</th>\n",
       "      <th>opv1</th>\n",
       "      <th>opv2</th>\n",
       "      <th>opv3</th>\n",
       "      <th>opv4</th>\n",
       "      <th>dtp1</th>\n",
       "      <th>dtp2</th>\n",
       "      <th>dtp3</th>\n",
       "      <th>intervene</th>\n",
       "    </tr>\n",
       "  </thead>\n",
       "  <tbody>\n",
       "    <tr>\n",
       "      <th>0</th>\n",
       "      <td>1</td>\n",
       "      <td>1/22/2019</td>\n",
       "      <td>f</td>\n",
       "      <td>Ghanzi</td>\n",
       "      <td>1/31/2019</td>\n",
       "      <td>4/3/2019</td>\n",
       "      <td>5/25/2019</td>\n",
       "      <td>7/6/2019</td>\n",
       "      <td>4/3/2019</td>\n",
       "      <td>5/25/2019</td>\n",
       "      <td>7/6/2019</td>\n",
       "      <td>False</td>\n",
       "    </tr>\n",
       "    <tr>\n",
       "      <th>1</th>\n",
       "      <td>2</td>\n",
       "      <td>11/12/2019</td>\n",
       "      <td>f</td>\n",
       "      <td>Chobe</td>\n",
       "      <td>11/12/2019</td>\n",
       "      <td>1/1/2100</td>\n",
       "      <td>1/1/2100</td>\n",
       "      <td>1/1/2100</td>\n",
       "      <td>1/1/2100</td>\n",
       "      <td>1/1/2100</td>\n",
       "      <td>1/1/2100</td>\n",
       "      <td>True</td>\n",
       "    </tr>\n",
       "    <tr>\n",
       "      <th>2</th>\n",
       "      <td>3</td>\n",
       "      <td>11/3/2019</td>\n",
       "      <td>m</td>\n",
       "      <td>Tutume</td>\n",
       "      <td>11/3/2019</td>\n",
       "      <td>12/17/2019</td>\n",
       "      <td>1/1/2100</td>\n",
       "      <td>1/1/2100</td>\n",
       "      <td>12/17/2019</td>\n",
       "      <td>1/1/2100</td>\n",
       "      <td>1/1/2100</td>\n",
       "      <td>True</td>\n",
       "    </tr>\n",
       "    <tr>\n",
       "      <th>3</th>\n",
       "      <td>4</td>\n",
       "      <td>4/17/2019</td>\n",
       "      <td>f</td>\n",
       "      <td>Lethlakane</td>\n",
       "      <td>6/1/2019</td>\n",
       "      <td>8/24/2019</td>\n",
       "      <td>10/14/2019</td>\n",
       "      <td>12/14/2019</td>\n",
       "      <td>7/14/2019</td>\n",
       "      <td>10/14/2019</td>\n",
       "      <td>12/14/2019</td>\n",
       "      <td>True</td>\n",
       "    </tr>\n",
       "    <tr>\n",
       "      <th>4</th>\n",
       "      <td>5</td>\n",
       "      <td>12/8/2018</td>\n",
       "      <td>m</td>\n",
       "      <td>Tuli</td>\n",
       "      <td>12/24/2018</td>\n",
       "      <td>2/10/2019</td>\n",
       "      <td>3/18/2019</td>\n",
       "      <td>4/27/2019</td>\n",
       "      <td>2/10/2019</td>\n",
       "      <td>3/18/2019</td>\n",
       "      <td>1/1/2100</td>\n",
       "      <td>False</td>\n",
       "    </tr>\n",
       "  </tbody>\n",
       "</table>\n",
       "</div>"
      ],
      "text/plain": [
       "   pat_id         dob gender    district        opv1        opv2        opv3  \\\n",
       "0       1   1/22/2019      f      Ghanzi   1/31/2019    4/3/2019   5/25/2019   \n",
       "1       2  11/12/2019      f       Chobe  11/12/2019    1/1/2100    1/1/2100   \n",
       "2       3   11/3/2019      m      Tutume   11/3/2019  12/17/2019    1/1/2100   \n",
       "3       4   4/17/2019      f  Lethlakane    6/1/2019   8/24/2019  10/14/2019   \n",
       "4       5   12/8/2018      m        Tuli  12/24/2018   2/10/2019   3/18/2019   \n",
       "\n",
       "         opv4        dtp1        dtp2        dtp3  intervene  \n",
       "0    7/6/2019    4/3/2019   5/25/2019    7/6/2019      False  \n",
       "1    1/1/2100    1/1/2100    1/1/2100    1/1/2100       True  \n",
       "2    1/1/2100  12/17/2019    1/1/2100    1/1/2100       True  \n",
       "3  12/14/2019   7/14/2019  10/14/2019  12/14/2019       True  \n",
       "4   4/27/2019   2/10/2019   3/18/2019    1/1/2100      False  "
      ]
     },
     "execution_count": 32,
     "metadata": {},
     "output_type": "execute_result"
    }
   ],
   "source": [
    "structured_data.head()"
   ]
  },
  {
   "cell_type": "raw",
   "id": "45f38402",
   "metadata": {},
   "source": [
    "So far we have created our datset we'll use to feed into our algorithms. Each row consists of the patient information, their vaccine information, and if they should be intervened.\n",
    "\n",
    "For example, the patient 1 received all doses within 6 months of their birth so their label \"intervene\" is False. The patient 3 never received the third dose and fourth dose of OPV shown by 1/1/2100. Hence, their \"intervene\" label is True. "
   ]
  },
  {
   "cell_type": "code",
   "execution_count": 33,
   "id": "f21fc392",
   "metadata": {},
   "outputs": [],
   "source": [
    "# We can use vaccine information upto 4 (120 days) months of a patients' birth.\n",
    "# Convert all the vaccine dose columns into flags indicating if they received that dose by 120 days of their birth.\n",
    "\n",
    "structured_data.opv1 = (pd.to_datetime(structured_data.opv1) - pd.to_datetime(structured_data.dob)).dt.days <= 120\n",
    "structured_data.opv2 = (pd.to_datetime(structured_data.opv2) - pd.to_datetime(structured_data.dob)).dt.days <= 120\n",
    "structured_data.opv3 = (pd.to_datetime(structured_data.opv3) - pd.to_datetime(structured_data.dob)).dt.days <= 120\n",
    "structured_data.opv4 = (pd.to_datetime(structured_data.opv4) - pd.to_datetime(structured_data.dob)).dt.days <= 120\n",
    "structured_data.dtp1 = (pd.to_datetime(structured_data.dtp1) - pd.to_datetime(structured_data.dob)).dt.days <= 120\n",
    "structured_data.dtp2 = (pd.to_datetime(structured_data.dtp2) - pd.to_datetime(structured_data.dob)).dt.days <= 120\n",
    "structured_data.dtp3 = (pd.to_datetime(structured_data.dtp3) - pd.to_datetime(structured_data.dob)).dt.days <= 120\n",
    "\n",
    "structured_data = structured_data.replace([True, False], [1, 0])"
   ]
  },
  {
   "cell_type": "code",
   "execution_count": 34,
   "id": "83cc2fe1",
   "metadata": {},
   "outputs": [
    {
     "data": {
      "text/html": [
       "<div>\n",
       "<style scoped>\n",
       "    .dataframe tbody tr th:only-of-type {\n",
       "        vertical-align: middle;\n",
       "    }\n",
       "\n",
       "    .dataframe tbody tr th {\n",
       "        vertical-align: top;\n",
       "    }\n",
       "\n",
       "    .dataframe thead th {\n",
       "        text-align: right;\n",
       "    }\n",
       "</style>\n",
       "<table border=\"1\" class=\"dataframe\">\n",
       "  <thead>\n",
       "    <tr style=\"text-align: right;\">\n",
       "      <th></th>\n",
       "      <th>gender</th>\n",
       "      <th>district</th>\n",
       "      <th>opv1</th>\n",
       "      <th>opv2</th>\n",
       "      <th>opv3</th>\n",
       "      <th>opv4</th>\n",
       "      <th>dtp1</th>\n",
       "      <th>dtp2</th>\n",
       "      <th>dtp3</th>\n",
       "      <th>intervene</th>\n",
       "      <th>year</th>\n",
       "      <th>month</th>\n",
       "      <th>day</th>\n",
       "    </tr>\n",
       "  </thead>\n",
       "  <tbody>\n",
       "    <tr>\n",
       "      <th>0</th>\n",
       "      <td>f</td>\n",
       "      <td>Ghanzi</td>\n",
       "      <td>1</td>\n",
       "      <td>1</td>\n",
       "      <td>0</td>\n",
       "      <td>0</td>\n",
       "      <td>1</td>\n",
       "      <td>0</td>\n",
       "      <td>0</td>\n",
       "      <td>0</td>\n",
       "      <td>2019</td>\n",
       "      <td>1</td>\n",
       "      <td>22</td>\n",
       "    </tr>\n",
       "    <tr>\n",
       "      <th>1</th>\n",
       "      <td>f</td>\n",
       "      <td>Chobe</td>\n",
       "      <td>1</td>\n",
       "      <td>0</td>\n",
       "      <td>0</td>\n",
       "      <td>0</td>\n",
       "      <td>0</td>\n",
       "      <td>0</td>\n",
       "      <td>0</td>\n",
       "      <td>1</td>\n",
       "      <td>2019</td>\n",
       "      <td>11</td>\n",
       "      <td>12</td>\n",
       "    </tr>\n",
       "    <tr>\n",
       "      <th>2</th>\n",
       "      <td>m</td>\n",
       "      <td>Tutume</td>\n",
       "      <td>1</td>\n",
       "      <td>1</td>\n",
       "      <td>0</td>\n",
       "      <td>0</td>\n",
       "      <td>1</td>\n",
       "      <td>0</td>\n",
       "      <td>0</td>\n",
       "      <td>1</td>\n",
       "      <td>2019</td>\n",
       "      <td>11</td>\n",
       "      <td>3</td>\n",
       "    </tr>\n",
       "    <tr>\n",
       "      <th>3</th>\n",
       "      <td>f</td>\n",
       "      <td>Lethlakane</td>\n",
       "      <td>1</td>\n",
       "      <td>0</td>\n",
       "      <td>0</td>\n",
       "      <td>0</td>\n",
       "      <td>1</td>\n",
       "      <td>0</td>\n",
       "      <td>0</td>\n",
       "      <td>1</td>\n",
       "      <td>2019</td>\n",
       "      <td>4</td>\n",
       "      <td>17</td>\n",
       "    </tr>\n",
       "    <tr>\n",
       "      <th>4</th>\n",
       "      <td>m</td>\n",
       "      <td>Tuli</td>\n",
       "      <td>1</td>\n",
       "      <td>1</td>\n",
       "      <td>1</td>\n",
       "      <td>0</td>\n",
       "      <td>1</td>\n",
       "      <td>1</td>\n",
       "      <td>0</td>\n",
       "      <td>0</td>\n",
       "      <td>2018</td>\n",
       "      <td>12</td>\n",
       "      <td>8</td>\n",
       "    </tr>\n",
       "  </tbody>\n",
       "</table>\n",
       "</div>"
      ],
      "text/plain": [
       "  gender    district  opv1  opv2  opv3  opv4  dtp1  dtp2  dtp3  intervene  \\\n",
       "0      f      Ghanzi     1     1     0     0     1     0     0          0   \n",
       "1      f       Chobe     1     0     0     0     0     0     0          1   \n",
       "2      m      Tutume     1     1     0     0     1     0     0          1   \n",
       "3      f  Lethlakane     1     0     0     0     1     0     0          1   \n",
       "4      m        Tuli     1     1     1     0     1     1     0          0   \n",
       "\n",
       "   year  month  day  \n",
       "0  2019      1   22  \n",
       "1  2019     11   12  \n",
       "2  2019     11    3  \n",
       "3  2019      4   17  \n",
       "4  2018     12    8  "
      ]
     },
     "execution_count": 34,
     "metadata": {},
     "output_type": "execute_result"
    }
   ],
   "source": [
    "# Create separate columns for day, month, year to handle the date string feature.\n",
    "structured_data['year'] = pd.to_datetime(structured_data['dob']).dt.year\n",
    "structured_data['month'] = pd.to_datetime(structured_data['dob']).dt.month\n",
    "structured_data['day'] = pd.to_datetime(structured_data['dob']).dt.day\n",
    "\n",
    "# Drop the dob and pat_id column.\n",
    "structured_data = structured_data.drop(['pat_id', 'dob'], axis = 1)\n",
    "\n",
    "structured_data.head()"
   ]
  },
  {
   "cell_type": "code",
   "execution_count": 35,
   "id": "9ffe29ee",
   "metadata": {},
   "outputs": [
    {
     "data": {
      "image/png": "[encoded data removed]",
      "text/plain": [
       "<Figure size 432x288 with 1 Axes>"
      ]
     },
     "metadata": {},
     "output_type": "display_data"
    }
   ],
   "source": [
    "# Plot the proportion of fully vaccinated vs not fully vaccinated by six months of age.\n",
    "# Not full vaccinted patients will be intervened by the health workers.\n",
    "\n",
    "unvax_vax = round(((structured_data.intervene.value_counts() / structured_data.intervene.count())*100))\n",
    "\n",
    "plt.pie(unvax_vax, labels=['Unvaccinated (Should be intervened)', 'Vaccinated (Should not be intervened)'], autopct='%1.0f%%', startangle=90)\n",
    "plt.title('Percentage of vaccinated and unvaccinated by six months of age.');\n"
   ]
  },
  {
   "cell_type": "code",
   "execution_count": 36,
   "id": "29724f74",
   "metadata": {},
   "outputs": [
    {
     "name": "stdout",
     "output_type": "stream",
     "text": [
      "There are 1634 missing districts.\n",
      "There are 1002 missing gender information.\n"
     ]
    }
   ],
   "source": [
    "# Check for any missing values in gender and district\n",
    "print(\"There are {} missing districts.\".format(structured_data.district.isna().sum()))\n",
    "print(\"There are {} missing gender information.\".format(structured_data.gender.isna().sum()))"
   ]
  },
  {
   "cell_type": "code",
   "execution_count": 37,
   "id": "8002cd77",
   "metadata": {},
   "outputs": [],
   "source": [
    "# Since the fraction of missing values is not significant, we'll create another category for missing values.\n",
    "structured_data.gender = structured_data.gender.fillna(\"unknown\")\n",
    "structured_data.district = structured_data.district.fillna(\"unknown\")"
   ]
  },
  {
   "cell_type": "code",
   "execution_count": 38,
   "id": "6cb27c3a",
   "metadata": {},
   "outputs": [
    {
     "data": {
      "text/plain": [
       "<AxesSubplot:xlabel='gender'>"
      ]
     },
     "execution_count": 38,
     "metadata": {},
     "output_type": "execute_result"
    },
    {
     "data": {
      "image/png": "[encoded data removed]",
      "text/plain": [
       "<Figure size 1152x432 with 1 Axes>"
      ]
     },
     "metadata": {
      "needs_background": "light"
     },
     "output_type": "display_data"
    },
    {
     "data": {
      "image/png": "[encoded data removed]",
      "text/plain": [
       "<Figure size 1152x432 with 1 Axes>"
      ]
     },
     "metadata": {
      "needs_background": "light"
     },
     "output_type": "display_data"
    }
   ],
   "source": [
    "# Check the proportion of vaccination levels in different districts and genders.\n",
    "structured_data.groupby('district')['intervene'].value_counts(normalize=True).unstack(level=1).plot.bar(figsize = (16, 6))\n",
    "structured_data.groupby('gender')['intervene'].value_counts(normalize=True).unstack(level=1).plot.bar(figsize = (16, 6))\n",
    "\n",
    "# From the graphs, there is no significant difference in vaccination levels in different districts and different genders."
   ]
  },
  {
   "cell_type": "code",
   "execution_count": 39,
   "id": "d7b36a78",
   "metadata": {},
   "outputs": [],
   "source": [
    "# Do one hot encoding given that our dataset is of size 50000.\n",
    "# Create one-hot encoding for categorical variables \"gender\" and \"district\". \n",
    "structured_data_encoded = pd.get_dummies(structured_data)"
   ]
  },
  {
   "cell_type": "code",
   "execution_count": 40,
   "id": "897ba46c",
   "metadata": {},
   "outputs": [
    {
     "data": {
      "text/html": [
       "<div>\n",
       "<style scoped>\n",
       "    .dataframe tbody tr th:only-of-type {\n",
       "        vertical-align: middle;\n",
       "    }\n",
       "\n",
       "    .dataframe tbody tr th {\n",
       "        vertical-align: top;\n",
       "    }\n",
       "\n",
       "    .dataframe thead th {\n",
       "        text-align: right;\n",
       "    }\n",
       "</style>\n",
       "<table border=\"1\" class=\"dataframe\">\n",
       "  <thead>\n",
       "    <tr style=\"text-align: right;\">\n",
       "      <th></th>\n",
       "      <th>opv1</th>\n",
       "      <th>opv2</th>\n",
       "      <th>opv3</th>\n",
       "      <th>opv4</th>\n",
       "      <th>dtp1</th>\n",
       "      <th>dtp2</th>\n",
       "      <th>dtp3</th>\n",
       "      <th>intervene</th>\n",
       "      <th>year</th>\n",
       "      <th>month</th>\n",
       "      <th>...</th>\n",
       "      <th>district_Ngamiland West</th>\n",
       "      <th>district_Ngwaketse North</th>\n",
       "      <th>district_Palapye</th>\n",
       "      <th>district_Selibe Phikwe</th>\n",
       "      <th>district_Serowe</th>\n",
       "      <th>district_South East</th>\n",
       "      <th>district_Tshabong</th>\n",
       "      <th>district_Tuli</th>\n",
       "      <th>district_Tutume</th>\n",
       "      <th>district_unknown</th>\n",
       "    </tr>\n",
       "  </thead>\n",
       "  <tbody>\n",
       "    <tr>\n",
       "      <th>count</th>\n",
       "      <td>50000.000000</td>\n",
       "      <td>50000.000000</td>\n",
       "      <td>50000.000000</td>\n",
       "      <td>50000.000000</td>\n",
       "      <td>50000.000000</td>\n",
       "      <td>50000.000000</td>\n",
       "      <td>50000.000000</td>\n",
       "      <td>50000.00000</td>\n",
       "      <td>50000.000000</td>\n",
       "      <td>50000.000000</td>\n",
       "      <td>...</td>\n",
       "      <td>50000.000000</td>\n",
       "      <td>50000.000000</td>\n",
       "      <td>50000.000000</td>\n",
       "      <td>50000.000000</td>\n",
       "      <td>50000.000000</td>\n",
       "      <td>50000.000000</td>\n",
       "      <td>50000.000000</td>\n",
       "      <td>50000.000000</td>\n",
       "      <td>50000.000000</td>\n",
       "      <td>50000.000000</td>\n",
       "    </tr>\n",
       "    <tr>\n",
       "      <th>mean</th>\n",
       "      <td>0.972600</td>\n",
       "      <td>0.831780</td>\n",
       "      <td>0.513080</td>\n",
       "      <td>0.186440</td>\n",
       "      <td>0.861060</td>\n",
       "      <td>0.552620</td>\n",
       "      <td>0.209580</td>\n",
       "      <td>0.57120</td>\n",
       "      <td>2018.501500</td>\n",
       "      <td>6.523040</td>\n",
       "      <td>...</td>\n",
       "      <td>0.034180</td>\n",
       "      <td>0.005820</td>\n",
       "      <td>0.002860</td>\n",
       "      <td>0.013640</td>\n",
       "      <td>0.030360</td>\n",
       "      <td>0.033020</td>\n",
       "      <td>0.006100</td>\n",
       "      <td>0.085220</td>\n",
       "      <td>0.080840</td>\n",
       "      <td>0.032680</td>\n",
       "    </tr>\n",
       "    <tr>\n",
       "      <th>std</th>\n",
       "      <td>0.163248</td>\n",
       "      <td>0.374065</td>\n",
       "      <td>0.499834</td>\n",
       "      <td>0.389465</td>\n",
       "      <td>0.345887</td>\n",
       "      <td>0.497228</td>\n",
       "      <td>0.407013</td>\n",
       "      <td>0.49491</td>\n",
       "      <td>0.500003</td>\n",
       "      <td>3.448169</td>\n",
       "      <td>...</td>\n",
       "      <td>0.181693</td>\n",
       "      <td>0.076067</td>\n",
       "      <td>0.053403</td>\n",
       "      <td>0.115992</td>\n",
       "      <td>0.171578</td>\n",
       "      <td>0.178691</td>\n",
       "      <td>0.077865</td>\n",
       "      <td>0.279212</td>\n",
       "      <td>0.272592</td>\n",
       "      <td>0.177799</td>\n",
       "    </tr>\n",
       "    <tr>\n",
       "      <th>min</th>\n",
       "      <td>0.000000</td>\n",
       "      <td>0.000000</td>\n",
       "      <td>0.000000</td>\n",
       "      <td>0.000000</td>\n",
       "      <td>0.000000</td>\n",
       "      <td>0.000000</td>\n",
       "      <td>0.000000</td>\n",
       "      <td>0.00000</td>\n",
       "      <td>2018.000000</td>\n",
       "      <td>1.000000</td>\n",
       "      <td>...</td>\n",
       "      <td>0.000000</td>\n",
       "      <td>0.000000</td>\n",
       "      <td>0.000000</td>\n",
       "      <td>0.000000</td>\n",
       "      <td>0.000000</td>\n",
       "      <td>0.000000</td>\n",
       "      <td>0.000000</td>\n",
       "      <td>0.000000</td>\n",
       "      <td>0.000000</td>\n",
       "      <td>0.000000</td>\n",
       "    </tr>\n",
       "    <tr>\n",
       "      <th>25%</th>\n",
       "      <td>1.000000</td>\n",
       "      <td>1.000000</td>\n",
       "      <td>0.000000</td>\n",
       "      <td>0.000000</td>\n",
       "      <td>1.000000</td>\n",
       "      <td>0.000000</td>\n",
       "      <td>0.000000</td>\n",
       "      <td>0.00000</td>\n",
       "      <td>2018.000000</td>\n",
       "      <td>4.000000</td>\n",
       "      <td>...</td>\n",
       "      <td>0.000000</td>\n",
       "      <td>0.000000</td>\n",
       "      <td>0.000000</td>\n",
       "      <td>0.000000</td>\n",
       "      <td>0.000000</td>\n",
       "      <td>0.000000</td>\n",
       "      <td>0.000000</td>\n",
       "      <td>0.000000</td>\n",
       "      <td>0.000000</td>\n",
       "      <td>0.000000</td>\n",
       "    </tr>\n",
       "    <tr>\n",
       "      <th>50%</th>\n",
       "      <td>1.000000</td>\n",
       "      <td>1.000000</td>\n",
       "      <td>1.000000</td>\n",
       "      <td>0.000000</td>\n",
       "      <td>1.000000</td>\n",
       "      <td>1.000000</td>\n",
       "      <td>0.000000</td>\n",
       "      <td>1.00000</td>\n",
       "      <td>2019.000000</td>\n",
       "      <td>7.000000</td>\n",
       "      <td>...</td>\n",
       "      <td>0.000000</td>\n",
       "      <td>0.000000</td>\n",
       "      <td>0.000000</td>\n",
       "      <td>0.000000</td>\n",
       "      <td>0.000000</td>\n",
       "      <td>0.000000</td>\n",
       "      <td>0.000000</td>\n",
       "      <td>0.000000</td>\n",
       "      <td>0.000000</td>\n",
       "      <td>0.000000</td>\n",
       "    </tr>\n",
       "    <tr>\n",
       "      <th>75%</th>\n",
       "      <td>1.000000</td>\n",
       "      <td>1.000000</td>\n",
       "      <td>1.000000</td>\n",
       "      <td>0.000000</td>\n",
       "      <td>1.000000</td>\n",
       "      <td>1.000000</td>\n",
       "      <td>0.000000</td>\n",
       "      <td>1.00000</td>\n",
       "      <td>2019.000000</td>\n",
       "      <td>10.000000</td>\n",
       "      <td>...</td>\n",
       "      <td>0.000000</td>\n",
       "      <td>0.000000</td>\n",
       "      <td>0.000000</td>\n",
       "      <td>0.000000</td>\n",
       "      <td>0.000000</td>\n",
       "      <td>0.000000</td>\n",
       "      <td>0.000000</td>\n",
       "      <td>0.000000</td>\n",
       "      <td>0.000000</td>\n",
       "      <td>0.000000</td>\n",
       "    </tr>\n",
       "    <tr>\n",
       "      <th>max</th>\n",
       "      <td>1.000000</td>\n",
       "      <td>1.000000</td>\n",
       "      <td>1.000000</td>\n",
       "      <td>1.000000</td>\n",
       "      <td>1.000000</td>\n",
       "      <td>1.000000</td>\n",
       "      <td>1.000000</td>\n",
       "      <td>1.00000</td>\n",
       "      <td>2019.000000</td>\n",
       "      <td>12.000000</td>\n",
       "      <td>...</td>\n",
       "      <td>1.000000</td>\n",
       "      <td>1.000000</td>\n",
       "      <td>1.000000</td>\n",
       "      <td>1.000000</td>\n",
       "      <td>1.000000</td>\n",
       "      <td>1.000000</td>\n",
       "      <td>1.000000</td>\n",
       "      <td>1.000000</td>\n",
       "      <td>1.000000</td>\n",
       "      <td>1.000000</td>\n",
       "    </tr>\n",
       "  </tbody>\n",
       "</table>\n",
       "<p>8 rows × 39 columns</p>\n",
       "</div>"
      ],
      "text/plain": [
       "               opv1          opv2          opv3          opv4          dtp1  \\\n",
       "count  50000.000000  50000.000000  50000.000000  50000.000000  50000.000000   \n",
       "mean       0.972600      0.831780      0.513080      0.186440      0.861060   \n",
       "std        0.163248      0.374065      0.499834      0.389465      0.345887   \n",
       "min        0.000000      0.000000      0.000000      0.000000      0.000000   \n",
       "25%        1.000000      1.000000      0.000000      0.000000      1.000000   \n",
       "50%        1.000000      1.000000      1.000000      0.000000      1.000000   \n",
       "75%        1.000000      1.000000      1.000000      0.000000      1.000000   \n",
       "max        1.000000      1.000000      1.000000      1.000000      1.000000   \n",
       "\n",
       "               dtp2          dtp3    intervene          year         month  \\\n",
       "count  50000.000000  50000.000000  50000.00000  50000.000000  50000.000000   \n",
       "mean       0.552620      0.209580      0.57120   2018.501500      6.523040   \n",
       "std        0.497228      0.407013      0.49491      0.500003      3.448169   \n",
       "min        0.000000      0.000000      0.00000   2018.000000      1.000000   \n",
       "25%        0.000000      0.000000      0.00000   2018.000000      4.000000   \n",
       "50%        1.000000      0.000000      1.00000   2019.000000      7.000000   \n",
       "75%        1.000000      0.000000      1.00000   2019.000000     10.000000   \n",
       "max        1.000000      1.000000      1.00000   2019.000000     12.000000   \n",
       "\n",
       "       ...  district_Ngamiland West  district_Ngwaketse North  \\\n",
       "count  ...             50000.000000              50000.000000   \n",
       "mean   ...                 0.034180                  0.005820   \n",
       "std    ...                 0.181693                  0.076067   \n",
       "min    ...                 0.000000                  0.000000   \n",
       "25%    ...                 0.000000                  0.000000   \n",
       "50%    ...                 0.000000                  0.000000   \n",
       "75%    ...                 0.000000                  0.000000   \n",
       "max    ...                 1.000000                  1.000000   \n",
       "\n",
       "       district_Palapye  district_Selibe Phikwe  district_Serowe  \\\n",
       "count      50000.000000            50000.000000     50000.000000   \n",
       "mean           0.002860                0.013640         0.030360   \n",
       "std            0.053403                0.115992         0.171578   \n",
       "min            0.000000                0.000000         0.000000   \n",
       "25%            0.000000                0.000000         0.000000   \n",
       "50%            0.000000                0.000000         0.000000   \n",
       "75%            0.000000                0.000000         0.000000   \n",
       "max            1.000000                1.000000         1.000000   \n",
       "\n",
       "       district_South East  district_Tshabong  district_Tuli  district_Tutume  \\\n",
       "count         50000.000000       50000.000000   50000.000000     50000.000000   \n",
       "mean              0.033020           0.006100       0.085220         0.080840   \n",
       "std               0.178691           0.077865       0.279212         0.272592   \n",
       "min               0.000000           0.000000       0.000000         0.000000   \n",
       "25%               0.000000           0.000000       0.000000         0.000000   \n",
       "50%               0.000000           0.000000       0.000000         0.000000   \n",
       "75%               0.000000           0.000000       0.000000         0.000000   \n",
       "max               1.000000           1.000000       1.000000         1.000000   \n",
       "\n",
       "       district_unknown  \n",
       "count      50000.000000  \n",
       "mean           0.032680  \n",
       "std            0.177799  \n",
       "min            0.000000  \n",
       "25%            0.000000  \n",
       "50%            0.000000  \n",
       "75%            0.000000  \n",
       "max            1.000000  \n",
       "\n",
       "[8 rows x 39 columns]"
      ]
     },
     "execution_count": 40,
     "metadata": {},
     "output_type": "execute_result"
    }
   ],
   "source": [
    "# Observe the data.\n",
    "structured_data_encoded.describe()"
   ]
  },
  {
   "cell_type": "code",
   "execution_count": 41,
   "id": "ee06265a",
   "metadata": {
    "scrolled": true
   },
   "outputs": [
    {
     "data": {
      "text/plain": [
       "<AxesSubplot:title={'center':'Fraction of patients who received the vaccine doses.'}>"
      ]
     },
     "execution_count": 41,
     "metadata": {},
     "output_type": "execute_result"
    },
    {
     "data": {
      "image/png": "[encoded data removed]",
      "text/plain": [
       "<Figure size 1152x432 with 1 Axes>"
      ]
     },
     "metadata": {
      "needs_background": "light"
     },
     "output_type": "display_data"
    }
   ],
   "source": [
    "# Observe the fraction of patients who received the doses by four months of age\n",
    "vaccines = ['opv1', 'opv2', 'opv3', 'opv4', 'dtp1', 'dtp2', 'dtp3']\n",
    "structured_data[vaccines].mean().plot.bar(figsize = (16, 6), title = 'Fraction of patients who received the vaccine doses.')"
   ]
  },
  {
   "cell_type": "raw",
   "id": "469f5f72",
   "metadata": {},
   "source": [
    "We can see from the bar chart above that the number of patients drops with subsequent doses of a vaccine."
   ]
  },
  {
   "cell_type": "code",
   "execution_count": 42,
   "id": "c59f46e9",
   "metadata": {},
   "outputs": [],
   "source": [
    "# separate the features and labels\n",
    "x, y = structured_data_encoded.drop('intervene', axis=1), structured_data_encoded['intervene']\n",
    "\n",
    "# train test split\n",
    "x_train, x_test, y_train, y_test= train_test_split(x,y, test_size = 0.3, random_state=1)"
   ]
  },
  {
   "cell_type": "code",
   "execution_count": 43,
   "id": "d7f1212f",
   "metadata": {},
   "outputs": [],
   "source": [
    "# We define a simple non-ML baseline that if the total number of vaccine doses recived by the patient\n",
    "# before four months of age is less than 4, they should be intervened.\n",
    "from sklearn.base import BaseEstimator, ClassifierMixin\n",
    "\n",
    "class Baseline(ClassifierMixin, BaseEstimator):\n",
    "\n",
    "    def __init__(self):\n",
    "        pass\n",
    "\n",
    "    def fit(self, xtrain = None, y_train = None):\n",
    "        return self\n",
    "\n",
    "    def predict(self, data):\n",
    "        return data.opv1 + data.opv2 + data.opv3 + data.opv4 + data.dtp1 + data.dtp2 + data.dtp3 < 4\n"
   ]
  },
  {
   "cell_type": "code",
   "execution_count": 44,
   "id": "c0a6da15",
   "metadata": {},
   "outputs": [
    {
     "name": "stderr",
     "output_type": "stream",
     "text": [
      "C:\\Anaconda\\lib\\site-packages\\sklearn\\linear_model\\_logistic.py:763: ConvergenceWarning: lbfgs failed to converge (status=1):\n",
      "STOP: TOTAL NO. of ITERATIONS REACHED LIMIT.\n",
      "\n",
      "Increase the number of iterations (max_iter) or scale the data as shown in:\n",
      "    https://scikit-learn.org/stable/modules/preprocessing.html\n",
      "Please also refer to the documentation for alternative solver options:\n",
      "    https://scikit-learn.org/stable/modules/linear_model.html#logistic-regression\n",
      "  n_iter_i = _check_optimize_result(\n",
      "C:\\Anaconda\\lib\\site-packages\\sklearn\\linear_model\\_logistic.py:763: ConvergenceWarning: lbfgs failed to converge (status=1):\n",
      "STOP: TOTAL NO. of ITERATIONS REACHED LIMIT.\n",
      "\n",
      "Increase the number of iterations (max_iter) or scale the data as shown in:\n",
      "    https://scikit-learn.org/stable/modules/preprocessing.html\n",
      "Please also refer to the documentation for alternative solver options:\n",
      "    https://scikit-learn.org/stable/modules/linear_model.html#logistic-regression\n",
      "  n_iter_i = _check_optimize_result(\n",
      "C:\\Anaconda\\lib\\site-packages\\sklearn\\linear_model\\_logistic.py:763: ConvergenceWarning: lbfgs failed to converge (status=1):\n",
      "STOP: TOTAL NO. of ITERATIONS REACHED LIMIT.\n",
      "\n",
      "Increase the number of iterations (max_iter) or scale the data as shown in:\n",
      "    https://scikit-learn.org/stable/modules/preprocessing.html\n",
      "Please also refer to the documentation for alternative solver options:\n",
      "    https://scikit-learn.org/stable/modules/linear_model.html#logistic-regression\n",
      "  n_iter_i = _check_optimize_result(\n",
      "C:\\Anaconda\\lib\\site-packages\\sklearn\\linear_model\\_logistic.py:763: ConvergenceWarning: lbfgs failed to converge (status=1):\n",
      "STOP: TOTAL NO. of ITERATIONS REACHED LIMIT.\n",
      "\n",
      "Increase the number of iterations (max_iter) or scale the data as shown in:\n",
      "    https://scikit-learn.org/stable/modules/preprocessing.html\n",
      "Please also refer to the documentation for alternative solver options:\n",
      "    https://scikit-learn.org/stable/modules/linear_model.html#logistic-regression\n",
      "  n_iter_i = _check_optimize_result(\n",
      "C:\\Anaconda\\lib\\site-packages\\sklearn\\linear_model\\_logistic.py:763: ConvergenceWarning: lbfgs failed to converge (status=1):\n",
      "STOP: TOTAL NO. of ITERATIONS REACHED LIMIT.\n",
      "\n",
      "Increase the number of iterations (max_iter) or scale the data as shown in:\n",
      "    https://scikit-learn.org/stable/modules/preprocessing.html\n",
      "Please also refer to the documentation for alternative solver options:\n",
      "    https://scikit-learn.org/stable/modules/linear_model.html#logistic-regression\n",
      "  n_iter_i = _check_optimize_result(\n",
      "C:\\Anaconda\\lib\\site-packages\\sklearn\\linear_model\\_logistic.py:763: ConvergenceWarning: lbfgs failed to converge (status=1):\n",
      "STOP: TOTAL NO. of ITERATIONS REACHED LIMIT.\n",
      "\n",
      "Increase the number of iterations (max_iter) or scale the data as shown in:\n",
      "    https://scikit-learn.org/stable/modules/preprocessing.html\n",
      "Please also refer to the documentation for alternative solver options:\n",
      "    https://scikit-learn.org/stable/modules/linear_model.html#logistic-regression\n",
      "  n_iter_i = _check_optimize_result(\n",
      "C:\\Anaconda\\lib\\site-packages\\sklearn\\linear_model\\_logistic.py:763: ConvergenceWarning: lbfgs failed to converge (status=1):\n",
      "STOP: TOTAL NO. of ITERATIONS REACHED LIMIT.\n",
      "\n",
      "Increase the number of iterations (max_iter) or scale the data as shown in:\n",
      "    https://scikit-learn.org/stable/modules/preprocessing.html\n",
      "Please also refer to the documentation for alternative solver options:\n",
      "    https://scikit-learn.org/stable/modules/linear_model.html#logistic-regression\n",
      "  n_iter_i = _check_optimize_result(\n",
      "C:\\Anaconda\\lib\\site-packages\\sklearn\\linear_model\\_logistic.py:763: ConvergenceWarning: lbfgs failed to converge (status=1):\n",
      "STOP: TOTAL NO. of ITERATIONS REACHED LIMIT.\n",
      "\n",
      "Increase the number of iterations (max_iter) or scale the data as shown in:\n",
      "    https://scikit-learn.org/stable/modules/preprocessing.html\n",
      "Please also refer to the documentation for alternative solver options:\n",
      "    https://scikit-learn.org/stable/modules/linear_model.html#logistic-regression\n",
      "  n_iter_i = _check_optimize_result(\n",
      "C:\\Anaconda\\lib\\site-packages\\sklearn\\linear_model\\_logistic.py:763: ConvergenceWarning: lbfgs failed to converge (status=1):\n",
      "STOP: TOTAL NO. of ITERATIONS REACHED LIMIT.\n",
      "\n",
      "Increase the number of iterations (max_iter) or scale the data as shown in:\n",
      "    https://scikit-learn.org/stable/modules/preprocessing.html\n",
      "Please also refer to the documentation for alternative solver options:\n",
      "    https://scikit-learn.org/stable/modules/linear_model.html#logistic-regression\n",
      "  n_iter_i = _check_optimize_result(\n",
      "C:\\Anaconda\\lib\\site-packages\\xgboost\\sklearn.py:1146: UserWarning: The use of label encoder in XGBClassifier is deprecated and will be removed in a future release. To remove this warning, do the following: 1) Pass option use_label_encoder=False when constructing XGBClassifier object; and 2) Encode your labels (y) as integers starting with 0, i.e. 0, 1, 2, ..., [num_class - 1].\n",
      "  warnings.warn(label_encoder_deprecation_msg, UserWarning)\n"
     ]
    },
    {
     "name": "stdout",
     "output_type": "stream",
     "text": [
      "[01:43:48] WARNING: C:/Users/Administrator/workspace/xgboost-win64_release_1.4.0/src/learner.cc:1095: Starting in XGBoost 1.3.0, the default evaluation metric used with the objective 'binary:logistic' was changed from 'error' to 'logloss'. Explicitly set eval_metric if you'd like to restore the old behavior.\n"
     ]
    },
    {
     "name": "stderr",
     "output_type": "stream",
     "text": [
      "C:\\Anaconda\\lib\\site-packages\\xgboost\\sklearn.py:1146: UserWarning: The use of label encoder in XGBClassifier is deprecated and will be removed in a future release. To remove this warning, do the following: 1) Pass option use_label_encoder=False when constructing XGBClassifier object; and 2) Encode your labels (y) as integers starting with 0, i.e. 0, 1, 2, ..., [num_class - 1].\n",
      "  warnings.warn(label_encoder_deprecation_msg, UserWarning)\n"
     ]
    },
    {
     "name": "stdout",
     "output_type": "stream",
     "text": [
      "[01:43:50] WARNING: C:/Users/Administrator/workspace/xgboost-win64_release_1.4.0/src/learner.cc:1095: Starting in XGBoost 1.3.0, the default evaluation metric used with the objective 'binary:logistic' was changed from 'error' to 'logloss'. Explicitly set eval_metric if you'd like to restore the old behavior.\n"
     ]
    },
    {
     "name": "stderr",
     "output_type": "stream",
     "text": [
      "C:\\Anaconda\\lib\\site-packages\\xgboost\\sklearn.py:1146: UserWarning: The use of label encoder in XGBClassifier is deprecated and will be removed in a future release. To remove this warning, do the following: 1) Pass option use_label_encoder=False when constructing XGBClassifier object; and 2) Encode your labels (y) as integers starting with 0, i.e. 0, 1, 2, ..., [num_class - 1].\n",
      "  warnings.warn(label_encoder_deprecation_msg, UserWarning)\n"
     ]
    },
    {
     "name": "stdout",
     "output_type": "stream",
     "text": [
      "[01:43:51] WARNING: C:/Users/Administrator/workspace/xgboost-win64_release_1.4.0/src/learner.cc:1095: Starting in XGBoost 1.3.0, the default evaluation metric used with the objective 'binary:logistic' was changed from 'error' to 'logloss'. Explicitly set eval_metric if you'd like to restore the old behavior.\n"
     ]
    },
    {
     "name": "stderr",
     "output_type": "stream",
     "text": [
      "C:\\Anaconda\\lib\\site-packages\\xgboost\\sklearn.py:1146: UserWarning: The use of label encoder in XGBClassifier is deprecated and will be removed in a future release. To remove this warning, do the following: 1) Pass option use_label_encoder=False when constructing XGBClassifier object; and 2) Encode your labels (y) as integers starting with 0, i.e. 0, 1, 2, ..., [num_class - 1].\n",
      "  warnings.warn(label_encoder_deprecation_msg, UserWarning)\n"
     ]
    },
    {
     "name": "stdout",
     "output_type": "stream",
     "text": [
      "[01:43:52] WARNING: C:/Users/Administrator/workspace/xgboost-win64_release_1.4.0/src/learner.cc:1095: Starting in XGBoost 1.3.0, the default evaluation metric used with the objective 'binary:logistic' was changed from 'error' to 'logloss'. Explicitly set eval_metric if you'd like to restore the old behavior.\n"
     ]
    },
    {
     "name": "stderr",
     "output_type": "stream",
     "text": [
      "C:\\Anaconda\\lib\\site-packages\\xgboost\\sklearn.py:1146: UserWarning: The use of label encoder in XGBClassifier is deprecated and will be removed in a future release. To remove this warning, do the following: 1) Pass option use_label_encoder=False when constructing XGBClassifier object; and 2) Encode your labels (y) as integers starting with 0, i.e. 0, 1, 2, ..., [num_class - 1].\n",
      "  warnings.warn(label_encoder_deprecation_msg, UserWarning)\n"
     ]
    },
    {
     "name": "stdout",
     "output_type": "stream",
     "text": [
      "[01:43:54] WARNING: C:/Users/Administrator/workspace/xgboost-win64_release_1.4.0/src/learner.cc:1095: Starting in XGBoost 1.3.0, the default evaluation metric used with the objective 'binary:logistic' was changed from 'error' to 'logloss'. Explicitly set eval_metric if you'd like to restore the old behavior.\n"
     ]
    },
    {
     "name": "stderr",
     "output_type": "stream",
     "text": [
      "C:\\Anaconda\\lib\\site-packages\\xgboost\\sklearn.py:1146: UserWarning: The use of label encoder in XGBClassifier is deprecated and will be removed in a future release. To remove this warning, do the following: 1) Pass option use_label_encoder=False when constructing XGBClassifier object; and 2) Encode your labels (y) as integers starting with 0, i.e. 0, 1, 2, ..., [num_class - 1].\n",
      "  warnings.warn(label_encoder_deprecation_msg, UserWarning)\n"
     ]
    },
    {
     "name": "stdout",
     "output_type": "stream",
     "text": [
      "[01:43:55] WARNING: C:/Users/Administrator/workspace/xgboost-win64_release_1.4.0/src/learner.cc:1095: Starting in XGBoost 1.3.0, the default evaluation metric used with the objective 'binary:logistic' was changed from 'error' to 'logloss'. Explicitly set eval_metric if you'd like to restore the old behavior.\n"
     ]
    },
    {
     "name": "stderr",
     "output_type": "stream",
     "text": [
      "C:\\Anaconda\\lib\\site-packages\\xgboost\\sklearn.py:1146: UserWarning: The use of label encoder in XGBClassifier is deprecated and will be removed in a future release. To remove this warning, do the following: 1) Pass option use_label_encoder=False when constructing XGBClassifier object; and 2) Encode your labels (y) as integers starting with 0, i.e. 0, 1, 2, ..., [num_class - 1].\n",
      "  warnings.warn(label_encoder_deprecation_msg, UserWarning)\n"
     ]
    },
    {
     "name": "stdout",
     "output_type": "stream",
     "text": [
      "[01:43:57] WARNING: C:/Users/Administrator/workspace/xgboost-win64_release_1.4.0/src/learner.cc:1095: Starting in XGBoost 1.3.0, the default evaluation metric used with the objective 'binary:logistic' was changed from 'error' to 'logloss'. Explicitly set eval_metric if you'd like to restore the old behavior.\n"
     ]
    },
    {
     "name": "stderr",
     "output_type": "stream",
     "text": [
      "C:\\Anaconda\\lib\\site-packages\\xgboost\\sklearn.py:1146: UserWarning: The use of label encoder in XGBClassifier is deprecated and will be removed in a future release. To remove this warning, do the following: 1) Pass option use_label_encoder=False when constructing XGBClassifier object; and 2) Encode your labels (y) as integers starting with 0, i.e. 0, 1, 2, ..., [num_class - 1].\n",
      "  warnings.warn(label_encoder_deprecation_msg, UserWarning)\n"
     ]
    },
    {
     "name": "stdout",
     "output_type": "stream",
     "text": [
      "[01:43:58] WARNING: C:/Users/Administrator/workspace/xgboost-win64_release_1.4.0/src/learner.cc:1095: Starting in XGBoost 1.3.0, the default evaluation metric used with the objective 'binary:logistic' was changed from 'error' to 'logloss'. Explicitly set eval_metric if you'd like to restore the old behavior.\n"
     ]
    },
    {
     "name": "stderr",
     "output_type": "stream",
     "text": [
      "C:\\Anaconda\\lib\\site-packages\\xgboost\\sklearn.py:1146: UserWarning: The use of label encoder in XGBClassifier is deprecated and will be removed in a future release. To remove this warning, do the following: 1) Pass option use_label_encoder=False when constructing XGBClassifier object; and 2) Encode your labels (y) as integers starting with 0, i.e. 0, 1, 2, ..., [num_class - 1].\n",
      "  warnings.warn(label_encoder_deprecation_msg, UserWarning)\n"
     ]
    },
    {
     "name": "stdout",
     "output_type": "stream",
     "text": [
      "[01:43:59] WARNING: C:/Users/Administrator/workspace/xgboost-win64_release_1.4.0/src/learner.cc:1095: Starting in XGBoost 1.3.0, the default evaluation metric used with the objective 'binary:logistic' was changed from 'error' to 'logloss'. Explicitly set eval_metric if you'd like to restore the old behavior.\n"
     ]
    },
    {
     "name": "stderr",
     "output_type": "stream",
     "text": [
      "C:\\Anaconda\\lib\\site-packages\\xgboost\\sklearn.py:1146: UserWarning: The use of label encoder in XGBClassifier is deprecated and will be removed in a future release. To remove this warning, do the following: 1) Pass option use_label_encoder=False when constructing XGBClassifier object; and 2) Encode your labels (y) as integers starting with 0, i.e. 0, 1, 2, ..., [num_class - 1].\n",
      "  warnings.warn(label_encoder_deprecation_msg, UserWarning)\n"
     ]
    },
    {
     "name": "stdout",
     "output_type": "stream",
     "text": [
      "[01:44:00] WARNING: C:/Users/Administrator/workspace/xgboost-win64_release_1.4.0/src/learner.cc:1095: Starting in XGBoost 1.3.0, the default evaluation metric used with the objective 'binary:logistic' was changed from 'error' to 'logloss'. Explicitly set eval_metric if you'd like to restore the old behavior.\n"
     ]
    }
   ],
   "source": [
    "# compare various classification models\n",
    "from sklearn.ensemble import RandomForestClassifier\n",
    "from sklearn.linear_model import LogisticRegression\n",
    "from sklearn.tree import DecisionTreeClassifier\n",
    "from sklearn.neighbors import KNeighborsClassifier\n",
    "from xgboost import XGBClassifier\n",
    "\n",
    "\n",
    "# prepare models\n",
    "models = []\n",
    "\n",
    "models.append(('DT', DecisionTreeClassifier(random_state=1)))\n",
    "models.append(('LR', LogisticRegression(random_state=1)))\n",
    "models.append(('RF', RandomForestClassifier(random_state=1)))\n",
    "models.append(('XGB', XGBClassifier(random_state=1)))\n",
    "models.append(('KNN', KNeighborsClassifier()))\n",
    "\n",
    "\n",
    "# Evaluate each model in turn with cross validation.\n",
    "results_recall, results_roc_auc, results_precision = pd.DataFrame(), pd.DataFrame(), pd.DataFrame()\n",
    "\n",
    "names = []\n",
    "\n",
    "scoring = ['recall', 'precision', 'roc_auc']\n",
    "\n",
    "for name, model in models:\n",
    "\n",
    "        # split dataset into 10 folds. Use one fold for validation and remaining 9 folds for training.\n",
    "        skf= StratifiedKFold(n_splits=10, shuffle=True, random_state=1)\n",
    "        cv_results = cross_validate(model, x_train, y_train, cv=skf, scoring=scoring)\n",
    "        results_precision[name] = cv_results['test_precision']\n",
    "        results_recall[name] = cv_results['test_recall']\n",
    "        results_roc_auc[name] = cv_results['test_roc_auc']"
   ]
  },
  {
   "cell_type": "code",
   "execution_count": 45,
   "id": "0df3fa55",
   "metadata": {},
   "outputs": [
    {
     "data": {
      "image/png": "[encoded data removed]",
      "text/plain": [
       "<Figure size 1152x864 with 3 Axes>"
      ]
     },
     "metadata": {
      "needs_background": "light"
     },
     "output_type": "display_data"
    }
   ],
   "source": [
    "# Plot and compare the precision, recall, and area under the curve.\n",
    "\n",
    "fig, axes = plt.subplots(3, 1, figsize = (16, 12))\n",
    "\n",
    "sns.boxplot(ax = axes[0], data = results_precision)\n",
    "axes[0].set_title('Precision')\n",
    "\n",
    "sns.boxplot(ax = axes[1], data = results_recall)\n",
    "axes[1].set_title('Recall')\n",
    "\n",
    "sns.boxplot(ax = axes[2], data = results_roc_auc)\n",
    "axes[2].set_title('Area under ROC curve.')\n",
    "plt.show()"
   ]
  },
  {
   "cell_type": "raw",
   "id": "920b5255",
   "metadata": {},
   "source": [
    "I think that recall is more important metric here. A False Negative (not intervening in case of a potentially unvaccinated patient) is much more costly than a False Positive. The XGBClassifier has the best recall and we'll compare it with our non-ML baseline described above."
   ]
  },
  {
   "cell_type": "code",
   "execution_count": 46,
   "id": "d7ccd4c2",
   "metadata": {},
   "outputs": [
    {
     "name": "stderr",
     "output_type": "stream",
     "text": [
      "C:\\Anaconda\\lib\\site-packages\\xgboost\\sklearn.py:1146: UserWarning: The use of label encoder in XGBClassifier is deprecated and will be removed in a future release. To remove this warning, do the following: 1) Pass option use_label_encoder=False when constructing XGBClassifier object; and 2) Encode your labels (y) as integers starting with 0, i.e. 0, 1, 2, ..., [num_class - 1].\n",
      "  warnings.warn(label_encoder_deprecation_msg, UserWarning)\n"
     ]
    },
    {
     "name": "stdout",
     "output_type": "stream",
     "text": [
      "[01:44:36] WARNING: C:/Users/Administrator/workspace/xgboost-win64_release_1.4.0/src/learner.cc:1095: Starting in XGBoost 1.3.0, the default evaluation metric used with the objective 'binary:logistic' was changed from 'error' to 'logloss'. Explicitly set eval_metric if you'd like to restore the old behavior.\n",
      "              precision    recall  f1-score   support\n",
      "\n",
      "           0       0.89      0.85      0.87      6502\n",
      "           1       0.89      0.92      0.90      8498\n",
      "\n",
      "    accuracy                           0.89     15000\n",
      "   macro avg       0.89      0.88      0.89     15000\n",
      "weighted avg       0.89      0.89      0.89     15000\n",
      "\n",
      "              precision    recall  f1-score   support\n",
      "\n",
      "           0       0.65      0.89      0.75      6502\n",
      "           1       0.88      0.63      0.73      8498\n",
      "\n",
      "    accuracy                           0.74     15000\n",
      "   macro avg       0.76      0.76      0.74     15000\n",
      "weighted avg       0.78      0.74      0.74     15000\n",
      "\n"
     ]
    }
   ],
   "source": [
    "model_xg, baseline = XGBClassifier(random_state=1), Baseline()\n",
    "model_xg.fit(x_train, y_train)\n",
    "baseline.fit(x_train, y_train)\n",
    "\n",
    "# Compare XGBoost and Baseline classification reports.\n",
    "print(classification_report(y_test, model_xg.predict(x_test)))\n",
    "print(classification_report(y_test, baseline.predict(x_test)))"
   ]
  },
  {
   "cell_type": "raw",
   "id": "0fafe457",
   "metadata": {},
   "source": [
    "We can see that XGBoost performs better than our baseline in terms of both precision and recall.\n"
   ]
  },
  {
   "cell_type": "raw",
   "id": "0608c8a0",
   "metadata": {},
   "source": [
    "A description of the next steps:\n",
    "\n",
    "    1. I think knowing the distance/commute time of patients from their respective health care facilities would be a good feature to include in the model. If I had to collect more data, I'd want to know the commute time of patients from their respective health care facilities. The lesser the commute time, the greater the chance of getting vaccinated!\n",
    "    \n",
    "    2. Currently, I'm using only the boolean variables for the doses of vaccines. 1 if a dose was received within four months, 0 if not. I think using an exact number of days instead could improve the predictions. Use the exact number of days if the vaccine dose was done successfully within four months or just plug in a very large number to denote the dose was not received.\n",
    "    \n",
    "    3. For each health care facility, our XGB model can be used at 4 months to predict how many patients that take doses from that facility are not likely going to be vaccinated. A large proportion of potentially unvaccinated patients, assign more workers to that facility."
   ]
  },
  {
   "cell_type": "markdown",
   "id": "6d241101",
   "metadata": {},
   "source": [
    "# Part 2"
   ]
  },
  {
   "cell_type": "raw",
   "id": "7553f62d",
   "metadata": {},
   "source": [
    "The SMS data can be useful in inventory management by efficiently managing the stocks of vaccines at a health care facility.\n",
    "\n",
    "Inventory management is a challenging problem in the supply of vaccines. The SMS data can help in efficiently managing the vaccine inventory by forecasting future demands (2-4 weeks in advance) of vaccines at a health care facility. This will reduce the wastage of vaccines (in case of excess supplies) or fulfilling the demand (in case of high demand). For example, if a health care facility consistently reports a higher number of people outside, no major weather disruptions, this can be an indication that more patients will be likely to visit that facility in upcoming weeks and hence store more vaccines there.\n",
    "\n",
    "An ML model can be trained on the corpus of the SMS received using NLP by a health care facility that maps it to vaccine consumption in the next 1-2 weeks from the past data.  The model can then forecast the demand at that facility by taking the SMS received from that facility as the input. We can also treat it as a classification problem where we classify a corpus of SMS received in the last two weeks into several classes. High demand, moderate demand, low demand."
   ]
  },
  {
   "cell_type": "code",
   "execution_count": null,
   "id": "111a5e0a",
   "metadata": {},
   "outputs": [],
   "source": []
  }
 ],
 "metadata": {
  "kernelspec": {
   "display_name": "Python 3",
   "language": "python",
   "name": "python3"
  },
  "language_info": {
   "codemirror_mode": {
    "name": "ipython",
    "version": 3
   },
   "file_extension": ".py",
   "mimetype": "text/x-python",
   "name": "python",
   "nbconvert_exporter": "python",
   "pygments_lexer": "ipython3",
   "version": "3.8.8"
  }
 },
 "nbformat": 4,
 "nbformat_minor": 5
}
